{
 "cells": [
  {
   "cell_type": "markdown",
   "id": "dbbf41e8",
   "metadata": {},
   "source": [
    "## Implementation of IncFL Algorithm "
   ]
  },
  {
   "cell_type": "markdown",
   "id": "3d60d360",
   "metadata": {},
   "source": [
    "### Load  and perpare the database for experiment"
   ]
  },
  {
   "cell_type": "code",
   "execution_count": 63,
   "id": "3aab4a56",
   "metadata": {},
   "outputs": [],
   "source": [
    "import nest_asyncio\n",
    "nest_asyncio.apply()"
   ]
  },
  {
   "cell_type": "code",
   "execution_count": 64,
   "id": "ff8cf7f5",
   "metadata": {},
   "outputs": [],
   "source": [
    "import collections\n",
    "\n",
    "import numpy as np\n",
    "import tensorflow as tf\n",
    "import tensorflow_federated as tff\n",
    "\n",
    "#np.random.seed(0)\n",
    "\n",
    "#tff.federated_computation(lambda: 'Hello, World!')()"
   ]
  },
  {
   "cell_type": "code",
   "execution_count": 65,
   "id": "b278e794",
   "metadata": {},
   "outputs": [],
   "source": [
    "emnist_train, emnist_test = tff.simulation.datasets.emnist.load_data()"
   ]
  },
  {
   "cell_type": "code",
   "execution_count": 66,
   "id": "4d20ae53",
   "metadata": {},
   "outputs": [],
   "source": [
    "NUM_CLIENTS = 10\n",
    "BATCH_SIZE = 32\n",
    "numTAU = 40\n",
    "\n",
    "def preprocess(dataset):\n",
    "\n",
    "  def batch_format_fn(element):\n",
    "    \"\"\"Flatten a batch of EMNIST data and return a (features, label) tuple.\"\"\"\n",
    "    return (tf.reshape(element['pixels'], [-1, 784]), \n",
    "            tf.reshape(element['label'], [-1, 1]))\n",
    "\n",
    "  return dataset.batch(BATCH_SIZE).map(batch_format_fn)"
   ]
  },
  {
   "cell_type": "code",
   "execution_count": 67,
   "id": "9b58af07",
   "metadata": {},
   "outputs": [],
   "source": [
    "client_ids = sorted(emnist_train.client_ids)[:NUM_CLIENTS]\n",
    "federated_train_data = [preprocess(emnist_train.create_tf_dataset_for_client(x))\n",
    "  for x in client_ids\n",
    "]"
   ]
  },
  {
   "cell_type": "markdown",
   "id": "306f09d6",
   "metadata": {},
   "source": [
    "### Prepare the model"
   ]
  },
  {
   "cell_type": "code",
   "execution_count": 68,
   "id": "d0e0e4e2",
   "metadata": {},
   "outputs": [],
   "source": [
    "def create_keras_model():\n",
    "  initializer = tf.keras.initializers.GlorotNormal(seed=0)\n",
    "  return tf.keras.models.Sequential([\n",
    "      tf.keras.layers.Input(shape=(784,)),\n",
    "      tf.keras.layers.Dense(10, kernel_initializer=initializer),\n",
    "      tf.keras.layers.Softmax(),\n",
    "  ])"
   ]
  },
  {
   "cell_type": "code",
   "execution_count": 69,
   "id": "7c4d511f",
   "metadata": {},
   "outputs": [],
   "source": [
    "def model_fn():\n",
    "  keras_model = create_keras_model()\n",
    "  return tff.learning.from_keras_model(\n",
    "      keras_model,\n",
    "      input_spec=federated_train_data[0].element_spec,\n",
    "      loss=tf.keras.losses.SparseCategoricalCrossentropy(),\n",
    "      metrics=[tf.keras.metrics.SparseCategoricalAccuracy()])"
   ]
  },
  {
   "cell_type": "markdown",
   "id": "3b121af6",
   "metadata": {},
   "source": [
    "### Tensorflow Blocks"
   ]
  },
  {
   "cell_type": "code",
   "execution_count": 70,
   "id": "10963ddd",
   "metadata": {},
   "outputs": [],
   "source": [
    "@tf.function\n",
    "def client_update(model, dataset, server_weights, client_optimizer):\n",
    "    ''' Performs training (using the server model weights) on the clients dataset.'''\n",
    "    # Initilize the client model with the current server weights\n",
    "    client_weights = model.trainable_variables\n",
    "    \n",
    "    # Initilize the aggregation weights for the incfl objective calculations\n",
    "    agg_weights = model.trainable_variables\n",
    "    \n",
    "    # Assign the server weights to the client model.\n",
    "    tf.nest.map_structure(lambda x,y: x.assign(y),\n",
    "                         client_weights, server_weights)\n",
    "    \n",
    "    # Assign the server weights to the agg weights model.\n",
    "    tf.nest.map_structure(lambda x,y: x.assign(y),\n",
    "                         agg_weights, server_weights)\n",
    "    \n",
    "    L1 = 0.0\n",
    "    ## L1\n",
    "    ## Calculate the loss with server_weights\n",
    "    ## Compute the model.forward_pass(server_weights) \n",
    "        ##  with the client dataset\n",
    "    count = 1.0\n",
    "    for batch in dataset:\n",
    "        with tf.GradientTape() as tape:\n",
    "            # Compute a forward pass on the batch of data\n",
    "            server_outputs = model.forward_pass(batch, False)\n",
    "        # Store the loss on running the data through client weights\n",
    "            L1 = L1 + server_outputs.loss\n",
    "        count += 1\n",
    "        \n",
    "    ## Average loss accross all the batches on the client data\n",
    "    L1 = L1/count \n",
    "\n",
    "    ## L2 over 100 interations         \n",
    "    # Get the agg weights by running the mini-batch SGD for 100 interations (As mentioned in the paper)\n",
    "    L2 = 0.0\n",
    "    for i in range(100):\n",
    "        for batch in dataset:\n",
    "            with tf.GradientTape() as tape:\n",
    "                # Compute a forward pass on the batch of data\n",
    "                agg_outputs = model.forward_pass(batch)\n",
    "        \n",
    "            # Compute the corresponding gradient\n",
    "            agg_grads = tape.gradient(agg_outputs.loss, agg_weights)\n",
    "            agg_grads_and_vars = zip(agg_grads, agg_weights)\n",
    "        \n",
    "        \n",
    "        \n",
    "            # Apply the gradient using a client optimizer\n",
    "            client_optimizer.apply_gradients(agg_grads_and_vars)\n",
    "            L2 = agg_outputs.loss\n",
    "\n",
    "    ## Compute the sigmoid of the difference of L1 - L2\n",
    "    ## These are the aggregated weights\n",
    "    aggregation = tf.keras.activations.sigmoid(L1-L2)\n",
    "    \n",
    "    # Rounds tau added for each client to optimize\n",
    "    # Use the client_optimizer to update the local model\n",
    "    for tau in range(numTAU):\n",
    "        for batch in dataset:\n",
    "            with tf.GradientTape() as tape:\n",
    "                # Compute a forward pass on the batch of data\n",
    "                outputs = model.forward_pass(batch)\n",
    "        \n",
    "            # Compute the corresponding gradient\n",
    "            grads = tape.gradient(outputs.loss, client_weights)\n",
    "            grads_and_vars = zip(grads, client_weights)\n",
    "\n",
    "            # Apply the gradient using a client optimizer\n",
    "            client_optimizer.apply_gradients(grads_and_vars)\n",
    "        \n",
    "    return client_weights, aggregation"
   ]
  },
  {
   "cell_type": "code",
   "execution_count": 71,
   "id": "396fad42",
   "metadata": {},
   "outputs": [],
   "source": [
    "@tf.function\n",
    "def server_update(\n",
    "    model,\n",
    "    client_weights,\n",
    "    server_optimizer\n",
    "):\n",
    "\n",
    "    model_weights = model.trainable_variables\n",
    "    \n",
    "    # Confirm if this approach is correct to implement the client optimizer\n",
    "    \n",
    "    server_optimizer.apply_gradients(\n",
    "    list(zip(tf.nest.flatten(client_weights), tf.nest.flatten(model_weights))))\n",
    "    \n",
    "    ''' Updates the server model weights as the average of the clients model weights'''\n",
    "    ## Trying assign_add() instead of just using the normal assign\n",
    "    \n",
    "    ###\n",
    "    # The next thing that I want to try is to use: \n",
    "    # multiply the clients weight by 0.001\n",
    "    # and then add the client weights to the original model weights\n",
    "    ## Something like client_weights.__mul__(0.01)\n",
    "    ## then observe the results\n",
    "    ## And finally try this client_weights.__mul__(-0.01)\n",
    "    ###\n",
    "    \n",
    "    ## Attempt 2!\n",
    "    #client_weights = Lambda(lambda x: 0.01 * client_weights)\n",
    "    #tf.nest.map_structure(lambda x: x.assign(x * -0.0001),\n",
    "    #                      client_weights)\n",
    "    ## Attempt 1!\n",
    "    #tf.nest.map_structure(lambda x,y: x.assign_add(y),\n",
    "    #                     model_weights, client_weights)\n",
    "    \n",
    "    return model_weights"
   ]
  },
  {
   "cell_type": "markdown",
   "id": "7a6d6ea8",
   "metadata": {},
   "source": [
    "### TF Core blocks"
   ]
  },
  {
   "cell_type": "code",
   "execution_count": 72,
   "id": "be5a88de",
   "metadata": {},
   "outputs": [],
   "source": [
    "@tff.tf_computation\n",
    "def server_init():\n",
    "    model = model_fn()\n",
    "    return model.trainable_variables"
   ]
  },
  {
   "cell_type": "code",
   "execution_count": 73,
   "id": "053f3f53",
   "metadata": {},
   "outputs": [],
   "source": [
    "@tff.federated_computation\n",
    "def initialize_fn():\n",
    "    return tff.federated_value(server_init(), tff.SERVER)"
   ]
  },
  {
   "cell_type": "code",
   "execution_count": 74,
   "id": "490a1f46",
   "metadata": {},
   "outputs": [],
   "source": [
    "## Turn the client_update into tf_computation that accepts \n",
    "# a client's dataset and server weights\n",
    "# And outputs an updated clent weights tensor \n",
    "\n",
    "whimsy_model = model_fn()\n",
    "tf_dataset_type = tff.SequenceType(whimsy_model.input_spec)"
   ]
  },
  {
   "cell_type": "code",
   "execution_count": 75,
   "id": "460b638a",
   "metadata": {},
   "outputs": [
    {
     "data": {
      "text/plain": [
       "'<float32[?,784],int32[?,1]>*'"
      ]
     },
     "execution_count": 75,
     "metadata": {},
     "output_type": "execute_result"
    }
   ],
   "source": [
    "str(tf_dataset_type)"
   ]
  },
  {
   "cell_type": "code",
   "execution_count": 76,
   "id": "edd79706",
   "metadata": {},
   "outputs": [],
   "source": [
    "model_weights_type = server_init.type_signature.result "
   ]
  },
  {
   "cell_type": "code",
   "execution_count": 77,
   "id": "382273e2",
   "metadata": {},
   "outputs": [
    {
     "data": {
      "text/plain": [
       "'<float32[784,10],float32[10]>'"
      ]
     },
     "execution_count": 77,
     "metadata": {},
     "output_type": "execute_result"
    }
   ],
   "source": [
    "str(model_weights_type)"
   ]
  },
  {
   "cell_type": "code",
   "execution_count": 78,
   "id": "eb700866",
   "metadata": {},
   "outputs": [],
   "source": [
    "@tff.tf_computation\n",
    "def agg_weights_init():\n",
    "    agg_weights = 0.0\n",
    "    return agg_weights"
   ]
  },
  {
   "cell_type": "code",
   "execution_count": 79,
   "id": "b863e885",
   "metadata": {},
   "outputs": [],
   "source": [
    "@tff.federated_computation\n",
    "def agg_weights_fn():\n",
    "    return tff.federated_value(agg_weights_init(), tff.CLIENTS) \n"
   ]
  },
  {
   "cell_type": "code",
   "execution_count": 80,
   "id": "6c1b7d98",
   "metadata": {},
   "outputs": [],
   "source": [
    "agg_weights_type = agg_weights_init.type_signature.result"
   ]
  },
  {
   "cell_type": "code",
   "execution_count": 81,
   "id": "afa0596c",
   "metadata": {},
   "outputs": [
    {
     "data": {
      "text/plain": [
       "'float32'"
      ]
     },
     "execution_count": 81,
     "metadata": {},
     "output_type": "execute_result"
    }
   ],
   "source": [
    "str(agg_weights_type)"
   ]
  },
  {
   "cell_type": "code",
   "execution_count": 82,
   "id": "cf0169fb",
   "metadata": {},
   "outputs": [],
   "source": [
    "## Now create a tf_computation for the client update\n",
    "@tff.tf_computation(tf_dataset_type, model_weights_type)\n",
    "def client_update_fn(tf_dataset, server_weights):\n",
    "    model = model_fn()\n",
    "    client_optimizer = tf.keras.optimizers.SGD(learning_rate=0.01)\n",
    "    weights, aggweights = client_update(model, tf_dataset, server_weights,client_optimizer)\n",
    "    return weights, aggweights"
   ]
  },
  {
   "cell_type": "code",
   "execution_count": 83,
   "id": "79e758bb",
   "metadata": {},
   "outputs": [],
   "source": [
    "## the tff.tf_computation version of the server update \n",
    "@tff.tf_computation(model_weights_type,agg_weights_type)\n",
    "def server_update_fn(client_weights,agg_weights):\n",
    "    model = model_fn()\n",
    "    #_learning_rate =  (1/(agg_weights+2.5))\n",
    "    ## Adding this as from somewhere in the backend a negative sign is propgating \n",
    "    _learning_rate = -0.5\n",
    "    server_optimizer = tf.keras.optimizers.SGD(learning_rate=_learning_rate)\n",
    "    return server_update(model, client_weights,server_optimizer)"
   ]
  },
  {
   "cell_type": "code",
   "execution_count": 84,
   "id": "dfe88eb2",
   "metadata": {},
   "outputs": [],
   "source": [
    "## Now we just need to call a tf.federated_computation function\n",
    "## That wraps the two tf_computation functions that we created above\n",
    "## The function will accept teo federated values:\n",
    "## 1. server weights with placement server\n",
    "## 2. client datasets with placemnt clients\n",
    "\n",
    "federated_server_type = tff.FederatedType(model_weights_type, tff.SERVER)\n",
    "federated_dataset_type = tff.FederatedType(tf_dataset_type, tff.CLIENTS)\n",
    "federated_agg_weights_type =  tff.FederatedType(agg_weights_type, tff.CLIENTS)"
   ]
  },
  {
   "cell_type": "code",
   "execution_count": 85,
   "id": "da35d4b8",
   "metadata": {},
   "outputs": [],
   "source": [
    "'''\n",
    "1. Refer to the build federated average code\n",
    "2. Get the weighted server code working - this means you would have implemented the weighted fedavg algorithm\n",
    "3. The next thing you need to edit is the client update function\n",
    "    a. In this fucntion you need to calculate the 2 loses\n",
    "    b. one of the client weights and the other on the server model\n",
    "    c. calculate the differnce of these weights (sigmoid(F(w) - F(w^)))\n",
    "    d. Send the new updated weights along with these aggregated w eights to the server\n",
    "    {Try your own variation where you save the calculation of the loss * updated weight and then send it to the server}\n",
    "4. Update the server model: Calculate the new learning rate and the coefficient of the wights\n",
    "'''\n",
    "\n",
    "@tff.federated_computation(federated_server_type, federated_dataset_type)\n",
    "def next_fn(server_weights, federated_dataset):\n",
    "        #[No Change] Broadcast the global model weights to the clients\n",
    "        server_weights_at_clients = tff.federated_broadcast(server_weights)\n",
    "    \n",
    "        ########### [This needs to change] Each client computes their updated weights ####################\n",
    "        ## This function will return two things\n",
    "        ## updated weights and aggregated weights\n",
    "        client_weights,agg_weights = tff.federated_map(\n",
    "                        client_update_fn, (federated_dataset, server_weights_at_clients))\n",
    "\n",
    "        ########## [This needs to change] The server averages these updates ###################\n",
    "        ## this function will use the aggregation weights as the multiplier of the updated weights \n",
    "        ## you need to adjust the learning rate of the model\n",
    "        mean_weighted_client_weights = tff.federated_mean(client_weights,agg_weights)\n",
    "        mean_client_agg_weights = tff.federated_mean(agg_weights)\n",
    "        #[No Change] The server updates its model \n",
    "        # server update also need to have an learner? maybe?\n",
    "        server_weights = tff.federated_map(server_update_fn, (mean_weighted_client_weights,mean_client_agg_weights))\n",
    "        ## If I pass the mean_client_weights then the algorithm works fine but when \n",
    "        ## i pass the client_weights directly to gives an error\n",
    "        ## that means the the function federated_mean is doing some kind of transformation that I didn't notice\n",
    "        \n",
    "        return server_weights "
   ]
  },
  {
   "cell_type": "code",
   "execution_count": 86,
   "id": "d44a65a7",
   "metadata": {},
   "outputs": [],
   "source": [
    "federated_algorithm = tff.templates.IterativeProcess(\n",
    "    initialize_fn=initialize_fn,\n",
    "    next_fn=next_fn\n",
    ")"
   ]
  },
  {
   "cell_type": "code",
   "execution_count": 87,
   "id": "19bcc84d",
   "metadata": {},
   "outputs": [
    {
     "data": {
      "text/plain": [
       "'( -> <float32[784,10],float32[10]>@SERVER)'"
      ]
     },
     "execution_count": 87,
     "metadata": {},
     "output_type": "execute_result"
    }
   ],
   "source": [
    "str(federated_algorithm.initialize.type_signature)"
   ]
  },
  {
   "cell_type": "code",
   "execution_count": 88,
   "id": "4f4403ec",
   "metadata": {},
   "outputs": [
    {
     "data": {
      "text/plain": [
       "'(<server_weights=<float32[784,10],float32[10]>@SERVER,federated_dataset={<float32[?,784],int32[?,1]>*}@CLIENTS> -> <float32[784,10],float32[10]>@SERVER)'"
      ]
     },
     "execution_count": 88,
     "metadata": {},
     "output_type": "execute_result"
    }
   ],
   "source": [
    "str(federated_algorithm.next.type_signature)"
   ]
  },
  {
   "cell_type": "code",
   "execution_count": 89,
   "id": "36d269bb",
   "metadata": {},
   "outputs": [],
   "source": [
    "central_emnist_test = emnist_test.create_tf_dataset_from_all_clients()\n",
    "central_emnist_test = preprocess(central_emnist_test)"
   ]
  },
  {
   "cell_type": "code",
   "execution_count": 90,
   "id": "3d695bf1",
   "metadata": {},
   "outputs": [],
   "source": [
    "def evaluate(server_state):\n",
    "    keras_model = create_keras_model()\n",
    "    keras_model.compile(\n",
    "        loss=tf.keras.losses.SparseCategoricalCrossentropy(),\n",
    "        metrics=[tf.keras.metrics.SparseCategoricalAccuracy()]\n",
    "    )\n",
    "    keras_model.set_weights(server_state)\n",
    "    keras_model.evaluate(central_emnist_test)"
   ]
  },
  {
   "cell_type": "code",
   "execution_count": 91,
   "id": "d5c07bdc",
   "metadata": {},
   "outputs": [
    {
     "name": "stdout",
     "output_type": "stream",
     "text": [
      "1276/1276 [==============================] - 9s 7ms/step - loss: 2.8479 - sparse_categorical_accuracy: 0.1027\n"
     ]
    }
   ],
   "source": [
    "server_state = federated_algorithm.initialize()\n",
    "evaluate(server_state)"
   ]
  },
  {
   "cell_type": "code",
   "execution_count": null,
   "id": "efdd5df9",
   "metadata": {},
   "outputs": [],
   "source": [
    "for round in range(10):\n",
    "    server_state = federated_algorithm.next(server_state, federated_train_data)"
   ]
  },
  {
   "cell_type": "code",
   "execution_count": null,
   "id": "041e391a",
   "metadata": {},
   "outputs": [],
   "source": [
    "evaluate(server_state)"
   ]
  }
 ],
 "metadata": {
  "kernelspec": {
   "display_name": "Python 3 (ipykernel)",
   "language": "python",
   "name": "python3"
  },
  "language_info": {
   "codemirror_mode": {
    "name": "ipython",
    "version": 3
   },
   "file_extension": ".py",
   "mimetype": "text/x-python",
   "name": "python",
   "nbconvert_exporter": "python",
   "pygments_lexer": "ipython3",
   "version": "3.9.13"
  }
 },
 "nbformat": 4,
 "nbformat_minor": 5
}
